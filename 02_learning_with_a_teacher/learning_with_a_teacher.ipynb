{
 "cells": [
  {
   "cell_type": "markdown",
   "metadata": {},
   "source": [
    "# Отток клиентов"
   ]
  },
  {
   "cell_type": "markdown",
   "metadata": {},
   "source": [
    "Из «Бета-Банка» стали уходить клиенты. Каждый месяц. Немного, но заметно. Банковские маркетологи посчитали: сохранять текущих клиентов дешевле, чем привлекать новых.\n",
    "\n",
    "Нужно спрогнозировать, уйдёт клиент из банка в ближайшее время или нет. Вам предоставлены исторические данные о поведении клиентов и расторжении договоров с банком. \n",
    "\n",
    "Постройте модель с предельно большим значением *F1*-меры. Чтобы сдать проект успешно, нужно довести метрику до 0.59. Проверьте *F1*-меру на тестовой выборке самостоятельно.\n",
    "\n",
    "Дополнительно измеряйте *AUC-ROC*, сравнивайте её значение с *F1*-мерой.\n",
    "\n",
    "Источник данных: [https://www.kaggle.com/barelydedicated/bank-customer-churn-modeling](https://www.kaggle.com/barelydedicated/bank-customer-churn-modeling)"
   ]
  },
  {
   "cell_type": "markdown",
   "metadata": {},
   "source": [
    "# 1. Подготовка данных"
   ]
  },
  {
   "cell_type": "markdown",
   "metadata": {},
   "source": [
    "Загрузим файл, подключим нужные библиотеки:"
   ]
  },
  {
   "cell_type": "code",
   "execution_count": 1,
   "metadata": {},
   "outputs": [],
   "source": [
    "from sklearn.model_selection import train_test_split\n",
    "from sklearn.preprocessing import OrdinalEncoder\n",
    "from sklearn.preprocessing import StandardScaler\n",
    "from sklearn.linear_model import LogisticRegression\n",
    "from sklearn.ensemble import RandomForestClassifier\n",
    "from sklearn.metrics import precision_score\n",
    "from sklearn.metrics import recall_score\n",
    "from sklearn.metrics import f1_score\n",
    "from sklearn.metrics import accuracy_score \n",
    "from sklearn.metrics import roc_curve\n",
    "from sklearn.metrics import roc_auc_score \n",
    "from sklearn.utils import shuffle\n",
    "from sklearn.tree import DecisionTreeClassifier\n",
    "\n",
    "import matplotlib.pyplot as plt\n",
    "import numpy as np\n",
    "import pandas as pd"
   ]
  },
  {
   "cell_type": "code",
   "execution_count": 2,
   "metadata": {},
   "outputs": [
    {
     "data": {
      "text/html": [
       "<div>\n",
       "<style scoped>\n",
       "    .dataframe tbody tr th:only-of-type {\n",
       "        vertical-align: middle;\n",
       "    }\n",
       "\n",
       "    .dataframe tbody tr th {\n",
       "        vertical-align: top;\n",
       "    }\n",
       "\n",
       "    .dataframe thead th {\n",
       "        text-align: right;\n",
       "    }\n",
       "</style>\n",
       "<table border=\"1\" class=\"dataframe\">\n",
       "  <thead>\n",
       "    <tr style=\"text-align: right;\">\n",
       "      <th></th>\n",
       "      <th>RowNumber</th>\n",
       "      <th>CustomerId</th>\n",
       "      <th>Surname</th>\n",
       "      <th>CreditScore</th>\n",
       "      <th>Geography</th>\n",
       "      <th>Gender</th>\n",
       "      <th>Age</th>\n",
       "      <th>Tenure</th>\n",
       "      <th>Balance</th>\n",
       "      <th>NumOfProducts</th>\n",
       "      <th>HasCrCard</th>\n",
       "      <th>IsActiveMember</th>\n",
       "      <th>EstimatedSalary</th>\n",
       "      <th>Exited</th>\n",
       "    </tr>\n",
       "  </thead>\n",
       "  <tbody>\n",
       "    <tr>\n",
       "      <td>0</td>\n",
       "      <td>1</td>\n",
       "      <td>15634602</td>\n",
       "      <td>Hargrave</td>\n",
       "      <td>619</td>\n",
       "      <td>France</td>\n",
       "      <td>Female</td>\n",
       "      <td>42</td>\n",
       "      <td>2.0</td>\n",
       "      <td>0.00</td>\n",
       "      <td>1</td>\n",
       "      <td>1</td>\n",
       "      <td>1</td>\n",
       "      <td>101348.88</td>\n",
       "      <td>1</td>\n",
       "    </tr>\n",
       "    <tr>\n",
       "      <td>1</td>\n",
       "      <td>2</td>\n",
       "      <td>15647311</td>\n",
       "      <td>Hill</td>\n",
       "      <td>608</td>\n",
       "      <td>Spain</td>\n",
       "      <td>Female</td>\n",
       "      <td>41</td>\n",
       "      <td>1.0</td>\n",
       "      <td>83807.86</td>\n",
       "      <td>1</td>\n",
       "      <td>0</td>\n",
       "      <td>1</td>\n",
       "      <td>112542.58</td>\n",
       "      <td>0</td>\n",
       "    </tr>\n",
       "    <tr>\n",
       "      <td>2</td>\n",
       "      <td>3</td>\n",
       "      <td>15619304</td>\n",
       "      <td>Onio</td>\n",
       "      <td>502</td>\n",
       "      <td>France</td>\n",
       "      <td>Female</td>\n",
       "      <td>42</td>\n",
       "      <td>8.0</td>\n",
       "      <td>159660.80</td>\n",
       "      <td>3</td>\n",
       "      <td>1</td>\n",
       "      <td>0</td>\n",
       "      <td>113931.57</td>\n",
       "      <td>1</td>\n",
       "    </tr>\n",
       "    <tr>\n",
       "      <td>3</td>\n",
       "      <td>4</td>\n",
       "      <td>15701354</td>\n",
       "      <td>Boni</td>\n",
       "      <td>699</td>\n",
       "      <td>France</td>\n",
       "      <td>Female</td>\n",
       "      <td>39</td>\n",
       "      <td>1.0</td>\n",
       "      <td>0.00</td>\n",
       "      <td>2</td>\n",
       "      <td>0</td>\n",
       "      <td>0</td>\n",
       "      <td>93826.63</td>\n",
       "      <td>0</td>\n",
       "    </tr>\n",
       "    <tr>\n",
       "      <td>4</td>\n",
       "      <td>5</td>\n",
       "      <td>15737888</td>\n",
       "      <td>Mitchell</td>\n",
       "      <td>850</td>\n",
       "      <td>Spain</td>\n",
       "      <td>Female</td>\n",
       "      <td>43</td>\n",
       "      <td>2.0</td>\n",
       "      <td>125510.82</td>\n",
       "      <td>1</td>\n",
       "      <td>1</td>\n",
       "      <td>1</td>\n",
       "      <td>79084.10</td>\n",
       "      <td>0</td>\n",
       "    </tr>\n",
       "  </tbody>\n",
       "</table>\n",
       "</div>"
      ],
      "text/plain": [
       "   RowNumber  CustomerId   Surname  CreditScore Geography  Gender  Age  \\\n",
       "0          1    15634602  Hargrave          619    France  Female   42   \n",
       "1          2    15647311      Hill          608     Spain  Female   41   \n",
       "2          3    15619304      Onio          502    France  Female   42   \n",
       "3          4    15701354      Boni          699    France  Female   39   \n",
       "4          5    15737888  Mitchell          850     Spain  Female   43   \n",
       "\n",
       "   Tenure    Balance  NumOfProducts  HasCrCard  IsActiveMember  \\\n",
       "0     2.0       0.00              1          1               1   \n",
       "1     1.0   83807.86              1          0               1   \n",
       "2     8.0  159660.80              3          1               0   \n",
       "3     1.0       0.00              2          0               0   \n",
       "4     2.0  125510.82              1          1               1   \n",
       "\n",
       "   EstimatedSalary  Exited  \n",
       "0        101348.88       1  \n",
       "1        112542.58       0  \n",
       "2        113931.57       1  \n",
       "3         93826.63       0  \n",
       "4         79084.10       0  "
      ]
     },
     "execution_count": 2,
     "metadata": {},
     "output_type": "execute_result"
    }
   ],
   "source": [
    "df = pd.read_csv('/datasets/Churn.csv')\n",
    "df.head()"
   ]
  },
  {
   "cell_type": "code",
   "execution_count": 3,
   "metadata": {},
   "outputs": [
    {
     "name": "stdout",
     "output_type": "stream",
     "text": [
      "<class 'pandas.core.frame.DataFrame'>\n",
      "RangeIndex: 10000 entries, 0 to 9999\n",
      "Data columns (total 14 columns):\n",
      "RowNumber          10000 non-null int64\n",
      "CustomerId         10000 non-null int64\n",
      "Surname            10000 non-null object\n",
      "CreditScore        10000 non-null int64\n",
      "Geography          10000 non-null object\n",
      "Gender             10000 non-null object\n",
      "Age                10000 non-null int64\n",
      "Tenure             9091 non-null float64\n",
      "Balance            10000 non-null float64\n",
      "NumOfProducts      10000 non-null int64\n",
      "HasCrCard          10000 non-null int64\n",
      "IsActiveMember     10000 non-null int64\n",
      "EstimatedSalary    10000 non-null float64\n",
      "Exited             10000 non-null int64\n",
      "dtypes: float64(3), int64(8), object(3)\n",
      "memory usage: 1.1+ MB\n"
     ]
    }
   ],
   "source": [
    "df.info()"
   ]
  },
  {
   "cell_type": "markdown",
   "metadata": {},
   "source": [
    "Переведем столбцы с текстовым содержанием (Gender, Geography) к категориальному типу:"
   ]
  },
  {
   "cell_type": "code",
   "execution_count": 4,
   "metadata": {},
   "outputs": [],
   "source": [
    "df[['Female', 'Male']] = pd.get_dummies(df['Gender'])\n",
    "df[['France', 'Germany', 'Spain']] = pd.get_dummies(df['Geography'])\n",
    "df = df.drop(df[['Gender', 'Geography']], axis=1)"
   ]
  },
  {
   "cell_type": "markdown",
   "metadata": {},
   "source": [
    "Заполним пропущенные значения в столбце Tenure медианой:"
   ]
  },
  {
   "cell_type": "code",
   "execution_count": 5,
   "metadata": {},
   "outputs": [],
   "source": [
    "df.loc[df['Tenure'].isna(), 'Tenure'] = df.fillna(df['Tenure'].median())"
   ]
  },
  {
   "cell_type": "markdown",
   "metadata": {},
   "source": [
    "Ко всем столбцам с количественными параметрами применим технику 'Масштабирование признаков':"
   ]
  },
  {
   "cell_type": "code",
   "execution_count": 6,
   "metadata": {},
   "outputs": [],
   "source": [
    "numeric = ['CreditScore', 'Age', 'Balance', 'EstimatedSalary', 'Tenure', 'NumOfProducts']\n",
    "scaler = StandardScaler()\n",
    "scaler.fit(df[numeric])\n",
    "df[numeric] = scaler.transform(df[numeric])"
   ]
  },
  {
   "cell_type": "markdown",
   "metadata": {},
   "source": [
    "Для обучения модели разделим параметры на целевые (Exited) и не целевые (все остальные). Также удалим всю личную информацию о клиенте (столбцы 'CustomerId', 'RowNumber', 'Surname'), для обучения модели она не пригодится:"
   ]
  },
  {
   "cell_type": "code",
   "execution_count": 7,
   "metadata": {},
   "outputs": [],
   "source": [
    "features = df.drop(['Exited', 'CustomerId', 'RowNumber', 'Surname'], axis=1)\n",
    "target = df['Exited']"
   ]
  },
  {
   "cell_type": "markdown",
   "metadata": {},
   "source": [
    "Далее разобьем данные на три части: обучающую, валидационную и тестовую в пропорции 60/20/20: "
   ]
  },
  {
   "cell_type": "code",
   "execution_count": 8,
   "metadata": {},
   "outputs": [],
   "source": [
    "features_trains, features_test, target_trains, target_test = train_test_split(features, target, test_size=0.20, random_state=12345)\n",
    "features_train, features_valid, target_train, target_valid = train_test_split(features_trains, target_trains, test_size=0.25, random_state=12345)"
   ]
  },
  {
   "cell_type": "markdown",
   "metadata": {},
   "source": [
    "Данные готовы."
   ]
  },
  {
   "cell_type": "markdown",
   "metadata": {},
   "source": [
    "# 2. Исследование задачи"
   ]
  },
  {
   "cell_type": "markdown",
   "metadata": {},
   "source": [
    "Исследуем баланс классов:"
   ]
  },
  {
   "cell_type": "code",
   "execution_count": 9,
   "metadata": {},
   "outputs": [
    {
     "data": {
      "text/plain": [
       "0.25580811252040686"
      ]
     },
     "execution_count": 9,
     "metadata": {},
     "output_type": "execute_result"
    }
   ],
   "source": [
    "target.value_counts()[1] / target.value_counts()[0]"
   ]
  },
  {
   "cell_type": "markdown",
   "metadata": {},
   "source": [
    "Баланс классов составляет 4:1. В связи с этим, для оценки моделей будем применять метрики f1 и auc_roc. Вначале исследуем алгоритмы без учета дисбаланса. Так как в столбце Exited данные категориальные, то задача сводится к бинарной классификации, нам подойдут три алгоритма обучения: дерево решений, случайный лес и логистическая регрессия. Первым исследуем \"Дерево решений\":"
   ]
  },
  {
   "cell_type": "code",
   "execution_count": 10,
   "metadata": {},
   "outputs": [
    {
     "data": {
      "image/png": "[encoded data removed]",
      "text/plain": [
       "<Figure size 432x288 with 1 Axes>"
      ]
     },
     "metadata": {
      "needs_background": "light"
     },
     "output_type": "display_data"
    },
    {
     "name": "stdout",
     "output_type": "stream",
     "text": [
      "F1 наилучшей модели: 0.5574803149606299 Максимальная глубина: 7 \n",
      "AUC_ROC наилучшей модели: 0.8229818206094554 Максимальная глубина: 5\n"
     ]
    }
   ],
   "source": [
    "import warnings\n",
    "warnings.filterwarnings('ignore')\n",
    "\n",
    "series_f1 = []\n",
    "series_auc_roc = []\n",
    "\n",
    "best_result_f1 = 0\n",
    "best_result_auc_roc = 0\n",
    "\n",
    "max_deep = 0\n",
    "max_roc = 0\n",
    "\n",
    "for depth in range(1, 35):\n",
    "    model = DecisionTreeClassifier(random_state=12345, max_depth=depth)\n",
    "    model.fit(features_train, target_train)\n",
    "    \n",
    "    predictions_valid_f1 = model.predict(features_valid)\n",
    "    result_f1 = f1_score(target_valid, predictions_valid_f1)\n",
    "    series_f1.append(result_f1)\n",
    "    if result_f1 > best_result_f1:\n",
    "        best_result_f1 = result_f1\n",
    "        max_deep = depth\n",
    "            \n",
    "    probabilities_valid_auc_roc = model.predict_proba(features_valid)\n",
    "    probabilities_one_valid = probabilities_valid_auc_roc[:, 1]\n",
    "    result_auc_roc = roc_auc_score(target_valid, probabilities_one_valid)\n",
    "    series_auc_roc.append(result_auc_roc)\n",
    "    if result_auc_roc > best_result_auc_roc:\n",
    "        best_result_auc_roc = result_auc_roc\n",
    "        max_roc = depth\n",
    "    \n",
    "series_f1 = pd.Series(series_f1)\n",
    "series_auc_roc = pd.Series(series_auc_roc)\n",
    "series_f1.plot()\n",
    "series_auc_roc.plot(grid=True, xlim=(0, 30))\n",
    "plt.show()\n",
    "\n",
    "print( \n",
    "    \"F1 наилучшей модели:\", best_result_f1, \"Максимальная глубина:\", max_deep,\n",
    "    \"\\nAUC_ROC наилучшей модели:\", best_result_auc_roc, \"Максимальная глубина:\", max_roc\n",
    ")"
   ]
  },
  {
   "cell_type": "markdown",
   "metadata": {},
   "source": [
    "Модель показала наилучший F1, равный 55 процентам при глубине дерева, равной 7 и наилучший AUC_ROC, равный 82 процентам при глубине дерева, равной 5. Далее исследуем алгоритм \"Случайный лес\":"
   ]
  },
  {
   "cell_type": "code",
   "execution_count": 11,
   "metadata": {},
   "outputs": [
    {
     "data": {
      "image/png": "[encoded data removed]",
      "text/plain": [
       "<Figure size 432x288 with 1 Axes>"
      ]
     },
     "metadata": {
      "needs_background": "light"
     },
     "output_type": "display_data"
    },
    {
     "name": "stdout",
     "output_type": "stream",
     "text": [
      "F1 наилучшей модели: 0.573268921095008 Максимальная глубина: 125 \n",
      "AUC_ROC наилучшей модели: 0.8411413420990306 Максимальная глубина: 74\n"
     ]
    }
   ],
   "source": [
    "series_f1 = []\n",
    "series_auc_roc = []\n",
    "\n",
    "best_result_f1 = 0\n",
    "best_result_auc_roc = 0\n",
    "\n",
    "max_deep = 0\n",
    "max_roc = 0\n",
    "\n",
    "for depth in range(1, 150):\n",
    "    model = RandomForestClassifier(random_state=12345, n_estimators=depth)\n",
    "    model.fit(features_train, target_train)\n",
    "    \n",
    "    predictions_valid_f1 = model.predict(features_valid)\n",
    "    result_f1 = f1_score(target_valid, predictions_valid_f1)\n",
    "    series_f1.append(result_f1)\n",
    "    if result_f1 > best_result_f1:\n",
    "        best_result_f1 = result_f1\n",
    "        max_deep = depth\n",
    "            \n",
    "    probabilities_valid_auc_roc = model.predict_proba(features_valid)\n",
    "    probabilities_one_valid = probabilities_valid_auc_roc[:, 1]\n",
    "    result_auc_roc = roc_auc_score(target_valid, probabilities_one_valid)\n",
    "    series_auc_roc.append(result_auc_roc)\n",
    "    if result_auc_roc > best_result_auc_roc:\n",
    "        best_result_auc_roc = result_auc_roc\n",
    "        max_roc = depth\n",
    "    \n",
    "series_f1 = pd.Series(series_f1)\n",
    "series_auc_roc = pd.Series(series_auc_roc)\n",
    "series_f1.plot()\n",
    "series_auc_roc.plot(grid=True, xlim=(0, 140))\n",
    "plt.show()\n",
    "\n",
    "print( \n",
    "    \"F1 наилучшей модели:\", best_result_f1, \"Максимальная глубина:\", max_deep,\n",
    "    \"\\nAUC_ROC наилучшей модели:\", best_result_auc_roc, \"Максимальная глубина:\", max_roc\n",
    ")"
   ]
  },
  {
   "cell_type": "markdown",
   "metadata": {},
   "source": [
    "Модель показала наилучший F1, равный 57 процентам при глубине дерева, равной 125 и наилучший AUC_ROC, равный 84 процентам при глубине дерева, равной 74. Далее исследуем алгоритм \"Логистическая регрессия\":"
   ]
  },
  {
   "cell_type": "code",
   "execution_count": 12,
   "metadata": {},
   "outputs": [
    {
     "name": "stdout",
     "output_type": "stream",
     "text": [
      "F1 наилучшей модели: 0.30131826741996237 \n",
      "AUC_ROC наилучшей модели: 0.7703264406257004\n"
     ]
    }
   ],
   "source": [
    "model = LogisticRegression(random_state=12345, solver='lbfgs')\n",
    "model.fit(features_train, target_train)\n",
    "\n",
    "predictions_valid = model.predict(features_valid)\n",
    "result_f1 = f1_score(target_valid, predictions_valid)\n",
    "\n",
    "probabilities_valid_auc_roc = model.predict_proba(features_valid)\n",
    "probabilities_one_valid = probabilities_valid_auc_roc[:, 1]\n",
    "result_auc_roc = roc_auc_score(target_valid, probabilities_one_valid)\n",
    "\n",
    "print( \n",
    "    \"F1 наилучшей модели:\", result_f1,\n",
    "    \"\\nAUC_ROC наилучшей модели:\", result_auc_roc\n",
    ")"
   ]
  },
  {
   "cell_type": "markdown",
   "metadata": {},
   "source": [
    "Модель показала наилучший F1, равный 30 процентам и наилучший AUC_ROC, равный 77 процентам.\n",
    "\n",
    "### Вывод:\n",
    "Ни одна из моделей не показала нужную точность. Лучший результат показал алгоритм \"Случайный лес\". Худший результат у алгоритма \"Логистическая регрессия\". Метрика AUC_ROC практически в точности повторяет линию показателя F1, указывая на эффективность модели, по сравнению с рандомной выборкой, что указывает на то, что наши модели довольно эффективны."
   ]
  },
  {
   "cell_type": "markdown",
   "metadata": {},
   "source": [
    "# 3. Борьба с дисбалансом"
   ]
  },
  {
   "cell_type": "markdown",
   "metadata": {},
   "source": [
    "Для начала изменим вес класса с помощью техники 'Взвешивание классов'. Первым исследуем \"Дерево решений\":"
   ]
  },
  {
   "cell_type": "code",
   "execution_count": 13,
   "metadata": {},
   "outputs": [
    {
     "data": {
      "image/png": "[encoded data removed]",
      "text/plain": [
       "<Figure size 432x288 with 1 Axes>"
      ]
     },
     "metadata": {
      "needs_background": "light"
     },
     "output_type": "display_data"
    },
    {
     "name": "stdout",
     "output_type": "stream",
     "text": [
      "F1 наилучшей модели: 0.5591836734693878 Максимальная глубина: 6 \n",
      "AUC_ROC наилучшей модели: 0.8182227845606317 Максимальная глубина: 5\n"
     ]
    }
   ],
   "source": [
    "series_f1 = []\n",
    "series_auc_roc = []\n",
    "\n",
    "best_result_f1 = 0\n",
    "best_result_auc_roc = 0\n",
    "\n",
    "max_deep = 0\n",
    "max_roc = 0\n",
    "\n",
    "for depth in range(1, 35):\n",
    "    model = DecisionTreeClassifier(random_state=12345, max_depth=depth, class_weight='balanced')\n",
    "    model.fit(features_train, target_train)\n",
    "    \n",
    "    predictions_valid_f1 = model.predict(features_valid)\n",
    "    result_f1 = f1_score(target_valid, predictions_valid_f1)\n",
    "    series_f1.append(result_f1)\n",
    "    if result_f1 > best_result_f1:\n",
    "        best_result_f1 = result_f1\n",
    "        max_deep = depth\n",
    "            \n",
    "    probabilities_valid_auc_roc = model.predict_proba(features_valid)\n",
    "    probabilities_one_valid = probabilities_valid_auc_roc[:, 1]\n",
    "    result_auc_roc = roc_auc_score(target_valid, probabilities_one_valid)\n",
    "    series_auc_roc.append(result_auc_roc)\n",
    "    if result_auc_roc > best_result_auc_roc:\n",
    "        best_result_auc_roc = result_auc_roc\n",
    "        max_roc = depth\n",
    "    \n",
    "series_f1 = pd.Series(series_f1)\n",
    "series_auc_roc = pd.Series(series_auc_roc)\n",
    "series_f1.plot()\n",
    "series_auc_roc.plot(grid=True, xlim=(0, 30))\n",
    "plt.show()\n",
    "\n",
    "print( \n",
    "    \"F1 наилучшей модели:\", best_result_f1, \"Максимальная глубина:\", max_deep,\n",
    "    \"\\nAUC_ROC наилучшей модели:\", best_result_auc_roc, \"Максимальная глубина:\", max_roc\n",
    ")"
   ]
  },
  {
   "cell_type": "markdown",
   "metadata": {},
   "source": [
    "Модель показала наилучший F1, равный 55 процентам при глубине дерева, равной 6 и наилучший AUC_ROC, равный 81 процентам при глубине дерева, равной 5. Далее исследуем алгоритм \"Случайный лес\":"
   ]
  },
  {
   "cell_type": "code",
   "execution_count": 14,
   "metadata": {},
   "outputs": [
    {
     "data": {
      "image/png": "[encoded data removed]",
      "text/plain": [
       "<Figure size 432x288 with 1 Axes>"
      ]
     },
     "metadata": {
      "needs_background": "light"
     },
     "output_type": "display_data"
    },
    {
     "name": "stdout",
     "output_type": "stream",
     "text": [
      "F1 наилучшей модели: 0.5705229793977813 Максимальная глубина: 27 \n",
      "AUC_ROC наилучшей модели: 0.8448791087218793 Максимальная глубина: 139\n"
     ]
    }
   ],
   "source": [
    "series_f1 = []\n",
    "series_auc_roc = []\n",
    "\n",
    "best_result_f1 = 0\n",
    "best_result_auc_roc = 0\n",
    "\n",
    "max_deep = 0\n",
    "max_roc = 0\n",
    "\n",
    "for depth in range(1, 150):\n",
    "    model = RandomForestClassifier(random_state=12345, n_estimators=depth, class_weight='balanced')\n",
    "    model.fit(features_train, target_train)\n",
    "    \n",
    "    predictions_valid_f1 = model.predict(features_valid)\n",
    "    result_f1 = f1_score(target_valid, predictions_valid_f1)\n",
    "    series_f1.append(result_f1)\n",
    "    if result_f1 > best_result_f1:\n",
    "        best_result_f1 = result_f1\n",
    "        max_deep = depth\n",
    "            \n",
    "    probabilities_valid_auc_roc = model.predict_proba(features_valid)\n",
    "    probabilities_one_valid = probabilities_valid_auc_roc[:, 1]\n",
    "    result_auc_roc = roc_auc_score(target_valid, probabilities_one_valid)\n",
    "    series_auc_roc.append(result_auc_roc)\n",
    "    if result_auc_roc > best_result_auc_roc:\n",
    "        best_result_auc_roc = result_auc_roc\n",
    "        max_roc = depth\n",
    "    \n",
    "series_f1 = pd.Series(series_f1)\n",
    "series_auc_roc = pd.Series(series_auc_roc)\n",
    "series_f1.plot()\n",
    "series_auc_roc.plot(grid=True, xlim=(0, 140))\n",
    "plt.show()\n",
    "\n",
    "print( \n",
    "    \"F1 наилучшей модели:\", best_result_f1, \"Максимальная глубина:\", max_deep,\n",
    "    \"\\nAUC_ROC наилучшей модели:\", best_result_auc_roc, \"Максимальная глубина:\", max_roc\n",
    ")"
   ]
  },
  {
   "cell_type": "markdown",
   "metadata": {},
   "source": [
    "Модель показала наилучший F1, равный 57 процентам при глубине дерева, равной 27 и наилучший AUC_ROC, равный 84 процентам при глубине дерева, равной 139. Далее исследуем алгоритм \"Логистическая регрессия\":"
   ]
  },
  {
   "cell_type": "code",
   "execution_count": 15,
   "metadata": {},
   "outputs": [
    {
     "name": "stdout",
     "output_type": "stream",
     "text": [
      "F1 наилучшей модели: 0.47500000000000003 \n",
      "AUC_ROC наилучшей модели: 0.7725311109662878\n"
     ]
    }
   ],
   "source": [
    "model = LogisticRegression(random_state=12345, solver='lbfgs', class_weight='balanced')\n",
    "model.fit(features_train, target_train)\n",
    "\n",
    "predictions_valid = model.predict(features_valid)\n",
    "result_f1 = f1_score(target_valid, predictions_valid)\n",
    "\n",
    "probabilities_valid_auc_roc = model.predict_proba(features_valid)\n",
    "probabilities_one_valid = probabilities_valid_auc_roc[:, 1]\n",
    "result_auc_roc = roc_auc_score(target_valid, probabilities_one_valid)\n",
    "\n",
    "print( \n",
    "    \"F1 наилучшей модели:\", result_f1,\n",
    "    \"\\nAUC_ROC наилучшей модели:\", result_auc_roc\n",
    ")"
   ]
  },
  {
   "cell_type": "markdown",
   "metadata": {},
   "source": [
    "Модель показала наилучший F1, равный 47 процентам и наилучший AUC_ROC, равный 77 процентам.\n",
    "\n",
    "### Вывод:\n",
    "Ни одна из моделей не показала нужную точность. Лучший результат показал алгоритм \"Случайный лес\". Худший результат у алгоритма \"Логистическая регрессия\". Параметр class_weight='balanced' незначительно повлиял на алгоритмы \"Дерево решений\" и \"Случайный лес\". Но в значительной степени повлиял на алгоритм \"Логистическая регрессия\". Метрика AUC_ROC также указывает, что данные алгоритмы достаточно эффективны."
   ]
  },
  {
   "cell_type": "markdown",
   "metadata": {},
   "source": [
    "======================================================================================================================"
   ]
  },
  {
   "cell_type": "markdown",
   "metadata": {},
   "source": [
    "Далее применим метод 'upsampling' и посмотрим, при какой величине таблицы будет максимальный эффект. Для начала напишем функцию, которая будет увеличивать таблицу:"
   ]
  },
  {
   "cell_type": "code",
   "execution_count": 16,
   "metadata": {},
   "outputs": [],
   "source": [
    "def upsample(features, target, repeat):\n",
    "    features_zeros = features[target == 0]\n",
    "    features_ones = features[target == 1]\n",
    "    target_zeros = target[target == 0]\n",
    "    target_ones = target[target == 1]\n",
    "\n",
    "    features_upsampled = pd.concat([features_zeros] + [features_ones] * repeat)\n",
    "    target_upsampled = pd.concat([target_zeros] + [target_ones] * repeat)\n",
    "    \n",
    "    features_upsampled, target_upsampled = shuffle(\n",
    "        features_upsampled, target_upsampled, random_state=12345)\n",
    "    \n",
    "    return features_upsampled, target_upsampled"
   ]
  },
  {
   "cell_type": "markdown",
   "metadata": {},
   "source": [
    "Применим данную функцию к обучающему набору данных. Найдем оптимальный размер списка для того, чтобы наши классы приблизились к балансу 1:1"
   ]
  },
  {
   "cell_type": "code",
   "execution_count": 17,
   "metadata": {},
   "outputs": [
    {
     "data": {
      "image/png": "[encoded data removed]",
      "text/plain": [
       "<Figure size 432x288 with 1 Axes>"
      ]
     },
     "metadata": {
      "needs_background": "light"
     },
     "output_type": "display_data"
    }
   ],
   "source": [
    "one = []\n",
    "zero = []\n",
    "\n",
    "for n in range(1, 8):\n",
    "    features_upsampled, target_upsampled = upsample(features_train, target_train, n)\n",
    "    o = target_upsampled[target_upsampled == 1].count()\n",
    "    z = target_upsampled[target_upsampled == 0].count()\n",
    "    \n",
    "    one.append(o)\n",
    "    zero.append(z)\n",
    "    \n",
    "one = pd.Series(one)\n",
    "zero = pd.Series(zero)\n",
    "one.plot()\n",
    "zero.plot(grid=True)\n",
    "plt.show()"
   ]
  },
  {
   "cell_type": "markdown",
   "metadata": {},
   "source": [
    "Из графика видно, что оптимальный размер списка равен 3. Вызовем функцию еще раз с размером списка 3 и обучим алгоритмы с новой, сбалансированной выборкой:"
   ]
  },
  {
   "cell_type": "code",
   "execution_count": 18,
   "metadata": {},
   "outputs": [],
   "source": [
    "features_upsampled, target_upsampled = upsample(features_train, target_train, 3)"
   ]
  },
  {
   "cell_type": "code",
   "execution_count": 19,
   "metadata": {},
   "outputs": [
    {
     "data": {
      "image/png": "[encoded data removed]",
      "text/plain": [
       "<Figure size 432x288 with 1 Axes>"
      ]
     },
     "metadata": {
      "needs_background": "light"
     },
     "output_type": "display_data"
    },
    {
     "name": "stdout",
     "output_type": "stream",
     "text": [
      "F1 наилучшей модели: 0.5595628415300545 Максимальная глубина: 6 \n",
      "AUC_ROC наилучшей модели: 0.8168669202487924 Максимальная глубина: 5\n"
     ]
    }
   ],
   "source": [
    "series_f1 = []\n",
    "series_auc_roc = []\n",
    "\n",
    "best_result_f1 = 0\n",
    "best_result_auc_roc = 0\n",
    "\n",
    "max_deep = 0\n",
    "max_roc = 0\n",
    "\n",
    "for depth in range(1, 35):\n",
    "    model = DecisionTreeClassifier(random_state=12345, max_depth=depth)\n",
    "    model.fit(features_upsampled, target_upsampled)\n",
    "    \n",
    "    predictions_valid_f1 = model.predict(features_valid)\n",
    "    result_f1 = f1_score(target_valid, predictions_valid_f1)\n",
    "    series_f1.append(result_f1)\n",
    "    if result_f1 > best_result_f1:\n",
    "        best_result_f1 = result_f1\n",
    "        max_deep = depth\n",
    "            \n",
    "    probabilities_valid_auc_roc = model.predict_proba(features_valid)\n",
    "    probabilities_one_valid = probabilities_valid_auc_roc[:, 1]\n",
    "    result_auc_roc = roc_auc_score(target_valid, probabilities_one_valid)\n",
    "    series_auc_roc.append(result_auc_roc)\n",
    "    if result_auc_roc > best_result_auc_roc:\n",
    "        best_result_auc_roc = result_auc_roc\n",
    "        max_roc = depth\n",
    "    \n",
    "series_f1 = pd.Series(series_f1)\n",
    "series_auc_roc = pd.Series(series_auc_roc)\n",
    "series_f1.plot()\n",
    "series_auc_roc.plot(grid=True, xlim=(0, 30))\n",
    "plt.show()\n",
    "\n",
    "print( \n",
    "    \"F1 наилучшей модели:\", best_result_f1, \"Максимальная глубина:\", max_deep,\n",
    "    \"\\nAUC_ROC наилучшей модели:\", best_result_auc_roc, \"Максимальная глубина:\", max_roc\n",
    ")"
   ]
  },
  {
   "cell_type": "markdown",
   "metadata": {},
   "source": [
    "Модель показала наилучший F1, равный 55 процентам при глубине дерева, равной 6 и наилучший AUC_ROC, равный 81 процентам при глубине дерева, равной 5. Далее исследуем алгоритм \"Случайный лес\":"
   ]
  },
  {
   "cell_type": "code",
   "execution_count": 20,
   "metadata": {},
   "outputs": [
    {
     "data": {
      "image/png": "[encoded data removed]",
      "text/plain": [
       "<Figure size 432x288 with 1 Axes>"
      ]
     },
     "metadata": {
      "needs_background": "light"
     },
     "output_type": "display_data"
    },
    {
     "name": "stdout",
     "output_type": "stream",
     "text": [
      "F1 наилучшей модели: 0.5895953757225433 Максимальная глубина: 46 \n",
      "AUC_ROC наилучшей модели: 0.8374075492871778 Максимальная глубина: 46\n"
     ]
    }
   ],
   "source": [
    "series_f1 = []\n",
    "series_auc_roc = []\n",
    "\n",
    "best_result_f1 = 0\n",
    "best_result_auc_roc = 0\n",
    "\n",
    "max_deep = 0\n",
    "max_roc = 0\n",
    "\n",
    "for depth in range(1, 50):\n",
    "    model = RandomForestClassifier(random_state=12345, n_estimators=depth)\n",
    "    model.fit(features_upsampled, target_upsampled)\n",
    "    \n",
    "    predictions_valid_f1 = model.predict(features_valid)\n",
    "    result_f1 = f1_score(target_valid, predictions_valid_f1)\n",
    "    series_f1.append(result_f1)\n",
    "    if result_f1 > best_result_f1:\n",
    "        best_result_f1 = result_f1\n",
    "        max_deep = depth\n",
    "            \n",
    "    probabilities_valid_auc_roc = model.predict_proba(features_valid)\n",
    "    probabilities_one_valid = probabilities_valid_auc_roc[:, 1]\n",
    "    result_auc_roc = roc_auc_score(target_valid, probabilities_one_valid)\n",
    "    series_auc_roc.append(result_auc_roc)\n",
    "    if result_auc_roc > best_result_auc_roc:\n",
    "        best_result_auc_roc = result_auc_roc\n",
    "        max_roc = depth\n",
    "    \n",
    "series_f1 = pd.Series(series_f1)\n",
    "series_auc_roc = pd.Series(series_auc_roc)\n",
    "series_f1.plot()\n",
    "series_auc_roc.plot(grid=True)\n",
    "plt.show()\n",
    "\n",
    "print( \n",
    "    \"F1 наилучшей модели:\", best_result_f1, \"Максимальная глубина:\", max_deep,\n",
    "    \"\\nAUC_ROC наилучшей модели:\", best_result_auc_roc, \"Максимальная глубина:\", max_roc\n",
    ")"
   ]
  },
  {
   "cell_type": "markdown",
   "metadata": {},
   "source": [
    "Модель показала наилучший F1, равный 58 процентам при глубине дерева, равной 46 и наилучший AUC_ROC, равный 83 процентам при глубине дерева, равной 46. Далее исследуем алгоритм \"Логистическая регрессия\":"
   ]
  },
  {
   "cell_type": "code",
   "execution_count": 21,
   "metadata": {},
   "outputs": [
    {
     "name": "stdout",
     "output_type": "stream",
     "text": [
      "F1 наилучшей модели: 0.4778012684989429 \n",
      "AUC_ROC наилучшей модели: 0.7721782365498419\n"
     ]
    }
   ],
   "source": [
    "model = LogisticRegression(random_state=12345, solver='lbfgs')\n",
    "model.fit(features_upsampled, target_upsampled)\n",
    "\n",
    "predictions_valid = model.predict(features_valid)\n",
    "result_f1 = f1_score(target_valid, predictions_valid)\n",
    "\n",
    "probabilities_valid_auc_roc = model.predict_proba(features_valid)\n",
    "probabilities_one_valid = probabilities_valid_auc_roc[:, 1]\n",
    "result_auc_roc = roc_auc_score(target_valid, probabilities_one_valid)\n",
    "\n",
    "print( \n",
    "    \"F1 наилучшей модели:\", result_f1,\n",
    "    \"\\nAUC_ROC наилучшей модели:\", result_auc_roc\n",
    ")"
   ]
  },
  {
   "cell_type": "markdown",
   "metadata": {},
   "source": [
    "Модель показала наилучший F1, равный 47 процентам и наилучший AUC_ROC, равный 77 процентам.\n",
    "\n",
    "### Вывод:\n",
    "Модель \"Случайный лес\" показала нужную точность. Худший результат у алгоритма \"Логистическая регрессия\". Сбалансирование классов незначительно повлиял на алгоритмы \"Дерево решений\" и \"Логистическая регрессия\". Но в значительной степени повлиял на алгоритм \"Случайный лес\". Метрика AUC_ROC также указывает, что данные алгоритмы достаточно эффективны."
   ]
  },
  {
   "cell_type": "markdown",
   "metadata": {},
   "source": [
    "# 4. Тестирование модели"
   ]
  },
  {
   "cell_type": "markdown",
   "metadata": {},
   "source": [
    "В прошлом блоке у нас лидировала модель \"Случайный лес\", с глубиной дерева 46 и размером таблицы 3. Обучим модель на тестовой выборке и посмотрим результат F1 и выведем показатель эффективности модели auc_roc:"
   ]
  },
  {
   "cell_type": "code",
   "execution_count": 22,
   "metadata": {},
   "outputs": [],
   "source": [
    "features_upsampled, target_upsampled = upsample(features_trains, target_trains, 3)"
   ]
  },
  {
   "cell_type": "code",
   "execution_count": 23,
   "metadata": {},
   "outputs": [
    {
     "name": "stdout",
     "output_type": "stream",
     "text": [
      "F1 наилучшей модели: 0.5865257595772787 \n",
      "AUC_ROC наилучшей модели: 0.8477513544577627\n"
     ]
    }
   ],
   "source": [
    "model = RandomForestClassifier(random_state=12345, n_estimators=37)\n",
    "model.fit(features_upsampled, target_upsampled)\n",
    "    \n",
    "predictions_valid_f1 = model.predict(features_test)\n",
    "result_f1 = f1_score(target_test, predictions_valid_f1)\n",
    "\n",
    "probabilities_valid_auc_roc = model.predict_proba(features_test)\n",
    "probabilities_one_valid = probabilities_valid_auc_roc[:, 1]\n",
    "result_auc_roc = roc_auc_score(target_test, probabilities_one_valid)\n",
    "    \n",
    "print( \n",
    "    \"F1 наилучшей модели:\", result_f1,\n",
    "    \"\\nAUC_ROC наилучшей модели:\", result_auc_roc\n",
    ")"
   ]
  },
  {
   "cell_type": "markdown",
   "metadata": {},
   "source": [
    "Модель не показала нужной нам точности на тестовой выборке. Попробуем применить метод 'Взвешивание классов' к модели-лидеру:"
   ]
  },
  {
   "cell_type": "code",
   "execution_count": 24,
   "metadata": {},
   "outputs": [
    {
     "name": "stdout",
     "output_type": "stream",
     "text": [
      "F1 наилучшей модели: 0.5905511811023623 \n",
      "AUC_ROC наилучшей модели: 0.8460399511070151\n"
     ]
    }
   ],
   "source": [
    "model = RandomForestClassifier(random_state=12345, n_estimators=37, class_weight='balanced')\n",
    "model.fit(features_upsampled, target_upsampled)\n",
    "    \n",
    "predictions_valid_f1 = model.predict(features_test)\n",
    "result_f1 = f1_score(target_test, predictions_valid_f1)\n",
    "\n",
    "probabilities_valid_auc_roc = model.predict_proba(features_test)\n",
    "probabilities_one_valid = probabilities_valid_auc_roc[:, 1]\n",
    "result_auc_roc = roc_auc_score(target_test, probabilities_one_valid)\n",
    "    \n",
    "print( \n",
    "    \"F1 наилучшей модели:\", result_f1,\n",
    "    \"\\nAUC_ROC наилучшей модели:\", result_auc_roc\n",
    ")"
   ]
  },
  {
   "cell_type": "markdown",
   "metadata": {},
   "source": [
    "### Вывод:"
   ]
  },
  {
   "cell_type": "markdown",
   "metadata": {},
   "source": [
    "Значение F1 составляет 59 процентов, что удовлетворяет условию задачи. Адекватность данной модели выше на 34 процента по сравнению с рандомной моделью."
   ]
  }
 ],
 "metadata": {
  "kernelspec": {
   "display_name": "Python 3",
   "language": "python",
   "name": "python3"
  },
  "language_info": {
   "codemirror_mode": {
    "name": "ipython",
    "version": 3
   },
   "file_extension": ".py",
   "mimetype": "text/x-python",
   "name": "python",
   "nbconvert_exporter": "python",
   "pygments_lexer": "ipython3",
   "version": "3.7.8"
  },
  "toc": {
   "base_numbering": 1,
   "nav_menu": {},
   "number_sections": false,
   "sideBar": true,
   "skip_h1_title": false,
   "title_cell": "Table of Contents",
   "title_sidebar": "Contents",
   "toc_cell": false,
   "toc_position": {},
   "toc_section_display": true,
   "toc_window_display": false
  }
 },
 "nbformat": 4,
 "nbformat_minor": 2
}
