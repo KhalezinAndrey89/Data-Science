{
 "cells": [
  {
   "cell_type": "markdown",
   "metadata": {},
   "source": [
    "# Описание проекта:"
   ]
  },
  {
   "cell_type": "markdown",
   "metadata": {},
   "source": [
    "Вам нужно защитить данные клиентов страховой компании «Хоть потоп». Разработайте такой метод преобразования данных, чтобы по ним было сложно восстановить персональную информацию. Обоснуйте корректность его работы.\n",
    "\n",
    "Нужно защитить данные, чтобы при преобразовании качество моделей машинного обучения не ухудшилось. Подбирать наилучшую модель не требуется."
   ]
  },
  {
   "cell_type": "markdown",
   "metadata": {},
   "source": [
    "## 1. Загрузка данных"
   ]
  },
  {
   "cell_type": "code",
   "execution_count": 1,
   "metadata": {},
   "outputs": [],
   "source": [
    "from sklearn.model_selection import train_test_split\n",
    "from sklearn.linear_model import LinearRegression\n",
    "from sklearn.metrics import r2_score\n",
    "\n",
    "import pandas as pd\n",
    "import numpy as np"
   ]
  },
  {
   "cell_type": "code",
   "execution_count": 2,
   "metadata": {},
   "outputs": [
    {
     "data": {
      "text/html": [
       "<div>\n",
       "<style scoped>\n",
       "    .dataframe tbody tr th:only-of-type {\n",
       "        vertical-align: middle;\n",
       "    }\n",
       "\n",
       "    .dataframe tbody tr th {\n",
       "        vertical-align: top;\n",
       "    }\n",
       "\n",
       "    .dataframe thead th {\n",
       "        text-align: right;\n",
       "    }\n",
       "</style>\n",
       "<table border=\"1\" class=\"dataframe\">\n",
       "  <thead>\n",
       "    <tr style=\"text-align: right;\">\n",
       "      <th></th>\n",
       "      <th>Пол</th>\n",
       "      <th>Возраст</th>\n",
       "      <th>Зарплата</th>\n",
       "      <th>Члены семьи</th>\n",
       "      <th>Страховые выплаты</th>\n",
       "    </tr>\n",
       "  </thead>\n",
       "  <tbody>\n",
       "    <tr>\n",
       "      <td>0</td>\n",
       "      <td>1</td>\n",
       "      <td>41.0</td>\n",
       "      <td>49600.0</td>\n",
       "      <td>1</td>\n",
       "      <td>0</td>\n",
       "    </tr>\n",
       "    <tr>\n",
       "      <td>1</td>\n",
       "      <td>0</td>\n",
       "      <td>46.0</td>\n",
       "      <td>38000.0</td>\n",
       "      <td>1</td>\n",
       "      <td>1</td>\n",
       "    </tr>\n",
       "    <tr>\n",
       "      <td>2</td>\n",
       "      <td>0</td>\n",
       "      <td>29.0</td>\n",
       "      <td>21000.0</td>\n",
       "      <td>0</td>\n",
       "      <td>0</td>\n",
       "    </tr>\n",
       "    <tr>\n",
       "      <td>3</td>\n",
       "      <td>0</td>\n",
       "      <td>21.0</td>\n",
       "      <td>41700.0</td>\n",
       "      <td>2</td>\n",
       "      <td>0</td>\n",
       "    </tr>\n",
       "    <tr>\n",
       "      <td>4</td>\n",
       "      <td>1</td>\n",
       "      <td>28.0</td>\n",
       "      <td>26100.0</td>\n",
       "      <td>0</td>\n",
       "      <td>0</td>\n",
       "    </tr>\n",
       "  </tbody>\n",
       "</table>\n",
       "</div>"
      ],
      "text/plain": [
       "   Пол  Возраст  Зарплата  Члены семьи  Страховые выплаты\n",
       "0    1     41.0   49600.0            1                  0\n",
       "1    0     46.0   38000.0            1                  1\n",
       "2    0     29.0   21000.0            0                  0\n",
       "3    0     21.0   41700.0            2                  0\n",
       "4    1     28.0   26100.0            0                  0"
      ]
     },
     "execution_count": 2,
     "metadata": {},
     "output_type": "execute_result"
    }
   ],
   "source": [
    "df = pd.read_csv('/datasets/insurance.csv')\n",
    "df.head()"
   ]
  },
  {
   "cell_type": "code",
   "execution_count": 3,
   "metadata": {},
   "outputs": [
    {
     "name": "stdout",
     "output_type": "stream",
     "text": [
      "<class 'pandas.core.frame.DataFrame'>\n",
      "RangeIndex: 5000 entries, 0 to 4999\n",
      "Data columns (total 5 columns):\n",
      "Пол                  5000 non-null int64\n",
      "Возраст              5000 non-null float64\n",
      "Зарплата             5000 non-null float64\n",
      "Члены семьи          5000 non-null int64\n",
      "Страховые выплаты    5000 non-null int64\n",
      "dtypes: float64(2), int64(3)\n",
      "memory usage: 195.4 KB\n"
     ]
    }
   ],
   "source": [
    "df.info()"
   ]
  },
  {
   "cell_type": "markdown",
   "metadata": {},
   "source": [
    "### Шаги:\n",
    "    1.Импортированы необходимые библиотеки.\n",
    "    2.Сохранено содержимое CSV-файла в переменную df.\n",
    "    3.Получена информация о датафрейме."
   ]
  },
  {
   "cell_type": "markdown",
   "metadata": {},
   "source": [
    "### Вывод:\n",
    "    Данные состоят из информации о клиентах страховой компании. Таблица состоит из столбцов: пол, возраст, зарплата застрахованного, количество членов его семьи, страховые выплаты. Таблица состоит из 5000 строк. Таблица не содержит пропущенных значений."
   ]
  },
  {
   "cell_type": "markdown",
   "metadata": {},
   "source": [
    "## 2. Умножение матриц"
   ]
  },
  {
   "cell_type": "markdown",
   "metadata": {},
   "source": [
    "Обозначения:\n",
    "\n",
    "- $X$ — матрица признаков (нулевой столбец состоит из единиц)\n",
    "\n",
    "- $y$ — вектор целевого признака\n",
    "\n",
    "- $P$ — матрица, на которую умножаются признаки\n",
    "\n",
    "- $w$ — вектор весов линейной регрессии (нулевой элемент равен сдвигу)"
   ]
  },
  {
   "cell_type": "markdown",
   "metadata": {},
   "source": [
    "Предсказания:\n",
    "\n",
    "$$\n",
    "a = Xw\n",
    "$$\n",
    "\n",
    "Задача обучения:\n",
    "\n",
    "$$\n",
    "w = \\arg\\min_w MSE(Xw, y)\n",
    "$$\n",
    "\n",
    "Формула обучения:\n",
    "\n",
    "$$\n",
    "w = (X^T X)^{-1} X^T y\n",
    "$$"
   ]
  },
  {
   "cell_type": "markdown",
   "metadata": {},
   "source": [
    "**Ответ:** \n",
    "\n",
    "    При умножении исходных данных на обратимую матрицу, качество линейной регресии не изменится.\n",
    "\n",
    "**Обоснование:** \n",
    "\n",
    "Формула расчета весов для линейной регрессии:\n",
    "\n",
    "$$\n",
    "w = (X^T X)^{-1} X^T y\n",
    "$$\n",
    "Представим новую матрицу признаков $X1$ как произведение старой $X$ на матрицу $P$ (обратимую):\n",
    "\n",
    "$$\n",
    "X1 = X * P\n",
    "$$\n",
    "Подставим новое значение X1 в формулу $w1$:\n",
    "\n",
    "$$\n",
    "w1 = ((X P)^T X P)^{-1} (X P)^T y\n",
    "$$\n",
    "Раскроем первое произведение $ (XP)^T $:\n",
    "\n",
    "$$\n",
    "w1 = (P^T X^T X P)^{-1} P^T X^T y\n",
    "$$\n",
    "Перегруппируем множители в скобках, чтобы это выглядело как произведение трех множителей:\n",
    "\n",
    "$$\n",
    "w1 = (P^T (X^T X) P)^{-1} P^T X^T y\n",
    "$$\n",
    "Раскроем скобки $ (P^T (X^T X) P)^{-1} $:\n",
    "\n",
    "$$\n",
    "w1 = P^{-1} (X^T X)^{-1} (P^T)^{-1} P^T X^T y\n",
    "$$\n",
    "Так как $P$ по условию обратимая, то произведение $(P^T)^{-1} P^T$ равно $E$ (единичная матрица):\n",
    "\n",
    "$$\n",
    "w1 = P^{-1} (X^T X)^{-1} E X^T y = P^{-1} (X^T X)^{-1} X^T y\n",
    "$$\n",
    "Можно заметить, что справа получилась формула для $w$:\n",
    "\n",
    "$$\n",
    "w1 = P^{-1} (X^T X)^{-1} X^T y = P^{-1} w\n",
    "$$\n",
    "Подставим новое значение весов 𝑤1 в формулу для предсказаний линейной регрессии. Предсказания модели расчитываются по формуле:\n",
    "\n",
    "$$\n",
    "a = Xw\n",
    "$$\n",
    "Подставим в эту формулу значения $X1$ и $w1$ для того, чтобы на их основе вычислить предсказания модели $a1$:\n",
    "\n",
    "$$\n",
    "a1 = X1w1 = XPP^{-1} w\n",
    "$$\n",
    "Так как $P$ по условию обратимая, то произведение $PP^{-1}$ снова равно $E$:\n",
    "\n",
    "$$\n",
    "a1 = XPP^{-1} w = X E w = X w = a\n",
    "$$\n",
    "Мы доказали, что предсказания $a1$ для матрицы признаков, умноженных на обратимую матрицу $P$ равны предсказаниям $a$.\n",
    "Следовательно, отвечая на вопрос изменится ли качество линейной регрессии при умножении признаков на обратимую матрицу - нет, не изменится. В данном случае, параметры линейной регрессии в исходной задаче $w$ и в преобразованной $w1$ связаны следующим образом:\n",
    "\n",
    "$$\n",
    "w1 = P^{-1} w\n",
    "$$"
   ]
  },
  {
   "cell_type": "markdown",
   "metadata": {},
   "source": [
    "## 3. Алгоритм преобразования"
   ]
  },
  {
   "cell_type": "markdown",
   "metadata": {},
   "source": [
    "**Алгоритм**\n",
    "\n",
    "    1.Создать случайную обратную матрицу.\n",
    "    2.Обучить модель на исходных данных.\n",
    "    3.Умножить матрицу признаков на обратную матрицу.\n",
    "    4.Обучить модель на преобразованых данных.\n",
    "    5.Сравнение метрик качества."
   ]
  },
  {
   "cell_type": "markdown",
   "metadata": {},
   "source": [
    "**Обоснование**\n",
    "\n",
    "    При умножении исходных данных на обратную матрицу, метрика качества должна остаться той же. "
   ]
  },
  {
   "cell_type": "markdown",
   "metadata": {},
   "source": [
    "## 4. Проверка алгоритма"
   ]
  },
  {
   "cell_type": "code",
   "execution_count": 4,
   "metadata": {},
   "outputs": [],
   "source": [
    "features = df.drop('Страховые выплаты', axis=1)\n",
    "target = df['Страховые выплаты']"
   ]
  },
  {
   "cell_type": "code",
   "execution_count": 5,
   "metadata": {},
   "outputs": [],
   "source": [
    "matrix = np.random.normal(size = (4,4))"
   ]
  },
  {
   "cell_type": "code",
   "execution_count": 6,
   "metadata": {},
   "outputs": [],
   "source": [
    "matrix = np.linalg.inv(matrix)"
   ]
  },
  {
   "cell_type": "code",
   "execution_count": 7,
   "metadata": {},
   "outputs": [
    {
     "name": "stdout",
     "output_type": "stream",
     "text": [
      "R2 на исходных признаках: 0.42494550286668\n"
     ]
    }
   ],
   "source": [
    "model = LinearRegression()\n",
    "model.fit(features, target)\n",
    "predictions = model.predict(features)\n",
    "print('R2 на исходных признаках:',r2_score(target, predictions))"
   ]
  },
  {
   "cell_type": "code",
   "execution_count": 8,
   "metadata": {},
   "outputs": [],
   "source": [
    "matrix = features @ matrix"
   ]
  },
  {
   "cell_type": "code",
   "execution_count": 9,
   "metadata": {},
   "outputs": [
    {
     "name": "stdout",
     "output_type": "stream",
     "text": [
      "R2 на преобразованных признаках: 0.4249455028667397\n"
     ]
    }
   ],
   "source": [
    "model.fit(matrix, target)\n",
    "predictions = model.predict(matrix)\n",
    "print('R2 на преобразованных признаках:',r2_score(target, predictions))"
   ]
  },
  {
   "cell_type": "markdown",
   "metadata": {},
   "source": [
    "### Шаги:\n",
    "    1.Данные разделены на обучающую и валидационную выборки.\n",
    "    2.Создана обратимая матрица размером 4х4.\n",
    "    3.Вычислена обратная матрица.\n",
    "    4.Обучена модель \"Линейная регрессия\", на исходных данных.\n",
    "    5.Исходные данные умножены на обратную матрицу.\n",
    "    6.Обучена модель \"Линейная регрессия\", на преобразованных данных."
   ]
  },
  {
   "cell_type": "markdown",
   "metadata": {},
   "source": [
    "### Вывод:\n",
    "    Качество линейной регрессии не изменилось, можно сделать вывод, что алгоритм преобразования данных работает правильно."
   ]
  }
 ],
 "metadata": {
  "kernelspec": {
   "display_name": "Python 3",
   "language": "python",
   "name": "python3"
  },
  "language_info": {
   "codemirror_mode": {
    "name": "ipython",
    "version": 3
   },
   "file_extension": ".py",
   "mimetype": "text/x-python",
   "name": "python",
   "nbconvert_exporter": "python",
   "pygments_lexer": "ipython3",
   "version": "3.7.8"
  },
  "toc": {
   "base_numbering": 1,
   "nav_menu": {},
   "number_sections": false,
   "sideBar": true,
   "skip_h1_title": false,
   "title_cell": "Table of Contents",
   "title_sidebar": "Contents",
   "toc_cell": false,
   "toc_position": {},
   "toc_section_display": true,
   "toc_window_display": false
  }
 },
 "nbformat": 4,
 "nbformat_minor": 2
}
